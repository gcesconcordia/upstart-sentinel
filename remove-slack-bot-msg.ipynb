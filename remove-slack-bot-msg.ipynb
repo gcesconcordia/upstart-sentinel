{
 "cells": [
  {
   "cell_type": "markdown",
   "metadata": {},
   "source": [
    "# Automated Removal of Bot Slack Messages\n",
    "\n",
    "## WARNING\n",
    "\n",
    "⚠️ THIS IS A DESTRUCTIVE SCRIPT. ASK YOURSELF, CONSULT YOUR PEERS, AND VALIDATE THE CODE AT LEAST 3 TIMES BEFORE EXECUTING ⚠️"
   ]
  },
  {
   "cell_type": "code",
   "execution_count": null,
   "metadata": {},
   "outputs": [],
   "source": [
    "%pip install requests"
   ]
  },
  {
   "cell_type": "code",
   "execution_count": null,
   "metadata": {},
   "outputs": [],
   "source": [
    "import requests\n",
    "\n",
    "def get_slack_messages(token, channel_id):\n",
    "    response = requests.get(\n",
    "        f\"https://slack.com/api/conversations.history?channel={channel_id}\", headers={\"Authorization\": f\"Bearer {token}\"}\n",
    "    )\n",
    "    print(response.json())\n",
    "    return response.json()[\"messages\"]\n",
    "\n",
    "def delete_app_messages(token, channel_id, app_user_id):\n",
    "    messages = get_slack_messages(token, channel_id)\n",
    "\n",
    "    for message in messages:\n",
    "        if message.get(\"user\") == app_user_id:\n",
    "            ts = message[\"ts\"]\n",
    "            response = requests.post(\n",
    "                f\"https://slack.com/api/chat.delete?channel={channel_id}&ts={ts}\",\n",
    "                headers={\n",
    "                    \"Authorization\": f\"Bearer {token}\"\n",
    "                }\n",
    "            )\n",
    "            print(f\"Deleted message: {ts}\")\n",
    "\n",
    "# Replace with your actual values\n",
    "slack_token = \"xoxb-??????????-???????????-???????\"\n",
    "channel_id = \"???????????\"\n",
    "app_user_id = \"???????????\"\n",
    "\n",
    "delete_app_messages(slack_token, channel_id, app_user_id)\n"
   ]
  }
 ],
 "metadata": {
  "language_info": {
   "name": "python"
  }
 },
 "nbformat": 4,
 "nbformat_minor": 2
}
